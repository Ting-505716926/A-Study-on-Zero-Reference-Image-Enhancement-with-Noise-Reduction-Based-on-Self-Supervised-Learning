{
 "cells": [
  {
   "cell_type": "code",
   "execution_count": 1,
   "metadata": {},
   "outputs": [],
   "source": [
    "import os\n",
    "import cv2\n",
    "import numpy as np\n",
    "import matplotlib.pyplot as plt\n",
    "import tensorflow as tf\n",
    "from denoise_model import denoising_net"
   ]
  },
  {
   "cell_type": "code",
   "execution_count": 2,
   "metadata": {},
   "outputs": [],
   "source": [
    "def NormalizeData(data):\n",
    "    return (data - tf.math.reduce_min(data)) / (tf.math.reduce_max(data) - tf.math.reduce_min(data))"
   ]
  },
  {
   "cell_type": "code",
   "execution_count": 3,
   "metadata": {},
   "outputs": [],
   "source": [
    "def image_selection(enhancement_images):\n",
    "    images = []\n",
    "    for index, i in enumerate(enhancement_images):\n",
    "        r,g,b = tf.split(i, 3, axis=2)\n",
    "        r_g = int(np.abs(np.mean(r*0.299-g*0.587)))\n",
    "        r_b = int(np.abs(np.mean(r*0.299-b*0.114)))\n",
    "        g_b = int(np.abs(np.mean(g*0.587-b*0.114)))\n",
    "        \n",
    "        img = tf.image.rgb_to_hsv(i)\n",
    "        h,s,v = tf.split(img, 3, axis=2)\n",
    "        mean_hue = tf.math.reduce_mean(h*255)\n",
    "        mean_v = tf.math.reduce_mean(v)\n",
    "        \n",
    "        if 22 < mean_hue and mean_hue <= 100:\n",
    "            if 30 <= mean_v and mean_v <= 145:\n",
    "                if  5<=r_g and  r_g <= 36: \n",
    "                    if 5 <= r_b and r_b<=48:\n",
    "                        if 5 <= g_b and  g_b <= 75:\n",
    "                            images.append(i)\n",
    "                            print(index)\n",
    "    if np.shape(images)[0] == 0:\n",
    "        return enhancement_images[0:5]\n",
    "    return images "
   ]
  },
  {
   "cell_type": "code",
   "execution_count": 6,
   "metadata": {},
   "outputs": [
    {
     "name": "stdout",
     "output_type": "stream",
     "text": [
      "Small_Denoised_sigmoid_LOL_Lambda2_1\n"
     ]
    }
   ],
   "source": [
    "model_name = ['Small_Denoised_sigmoid_LOL_Lambda2_1']\n",
    "model_name = model_name[0]\n",
    "mode = ['Large','Small']\n",
    "mode = mode[1]\n",
    "add_noise = False\n",
    "print(model_name)"
   ]
  },
  {
   "cell_type": "code",
   "execution_count": 7,
   "metadata": {},
   "outputs": [
    {
     "data": {
      "text/plain": [
       "<tensorflow.python.training.tracking.util.CheckpointLoadStatus at 0x1532c996eb0>"
      ]
     },
     "execution_count": 7,
     "metadata": {},
     "output_type": "execute_result"
    }
   ],
   "source": [
    "i = 'epoch1901_ssim0.869741_psnr33.173935'\n",
    "model = denoising_net(input_shape=(None,None,3), mode=mode, model_name=model_name, train=False, add_noise=add_noise)\n",
    "# model.enhancement_net.load_weights(enhancement_path)\n",
    "denoising_path = './model/{0}/weights/{1}/'.format(model_name, i)\n",
    "model.denoising_net.load_weights(denoising_path)"
   ]
  },
  {
   "cell_type": "code",
   "execution_count": 8,
   "metadata": {},
   "outputs": [],
   "source": [
    "# img_dir = './Dataset/denoise/train/'\n",
    "img_dir = './result/CSP_DCE_1_10_5_1600/epoch10/'\n",
    "output_dir = './result/CSP_DCE+Small_N2N_1_10_5_1600/'\n",
    "folder = os.path.exists(output_dir)\n",
    "if not folder:\n",
    "    os.makedirs(output_dir)\n",
    "\n",
    "for file in os.listdir(img_dir):\n",
    "    img_path = img_dir + file\n",
    "    img = cv2.imread(img_path)\n",
    "    # cv2.imwrite(output_dir+file, img)\n",
    "    \n",
    "    img = cv2.cvtColor(img, cv2.COLOR_BGR2RGB)/255\n",
    "    h,w,c = np.shape(img)\n",
    "    img = tf.reshape(img, (1,h,w,c))\n",
    "    pred_img = tf.cast(img, dtype=tf.float32)\n",
    "\n",
    "    denoise, noise = model.predict(img)\n",
    "\n",
    "    denoise = tf.clip_by_value(denoise, clip_value_min=0, clip_value_max=1)\n",
    "    # noise = tf.cast(noise,dtype=tf.float32)\n",
    "    # print(tf.dtypes(noise))\n",
    "\n",
    "    # # print('img_noise_ssim: ', tf.image.ssim(pred_img,noise,max_val=1))\n",
    "    # print('img_denoise_ssim: ', tf.image.ssim(pred_img,denoise,max_val=1))\n",
    "    # print()\n",
    "    # # print('img_noise_psnr: ', tf.image.psnr(pred_img,noise,max_val=1))\n",
    "    # print('img_denoise_psnr: ', tf.image.psnr(pred_img,denoise,max_val=1))\n",
    "    # print()\n",
    "        \n",
    "    denoise = np.reshape(denoise, (h,w,c))\n",
    "    denoise = cv2.cvtColor(denoise, cv2.COLOR_RGB2BGR)\n",
    "    cv2.imwrite(output_dir + file, denoise*255)\n",
    "    \n",
    "    # noise = np.reshape(noise, (h,w,c))\n",
    "    # noise = cv2.cvtColor(noise, cv2.COLOR_RGB2BGR)\n",
    "    # cv2.imwrite(output_dir + file[:-4] + 'noise.jpg', noise*255)"
   ]
  },
  {
   "cell_type": "code",
   "execution_count": null,
   "metadata": {},
   "outputs": [],
   "source": []
  }
 ],
 "metadata": {
  "kernelspec": {
   "display_name": "Python 3.8.5 ('tf26')",
   "language": "python",
   "name": "python3"
  },
  "language_info": {
   "codemirror_mode": {
    "name": "ipython",
    "version": 3
   },
   "file_extension": ".py",
   "mimetype": "text/x-python",
   "name": "python",
   "nbconvert_exporter": "python",
   "pygments_lexer": "ipython3",
   "version": "3.8.5"
  },
  "orig_nbformat": 4,
  "vscode": {
   "interpreter": {
    "hash": "a480b68b8c343a8999e692c3d6d2f5bf9e4da97c94672fb67f8d413f9dcb69e4"
   }
  }
 },
 "nbformat": 4,
 "nbformat_minor": 2
}
