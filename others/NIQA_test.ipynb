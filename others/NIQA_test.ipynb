{
 "cells": [
  {
   "cell_type": "code",
   "execution_count": 1,
   "metadata": {},
   "outputs": [],
   "source": [
    "import numpy as np\n",
    "import cv2\n",
    "import matplotlib.pyplot as plt\n",
    "from others.NIQA import *"
   ]
  },
  {
   "cell_type": "code",
   "execution_count": 2,
   "metadata": {},
   "outputs": [],
   "source": [
    "low_light_img = cv2.imread('../Dataset/LOLdataset/train/low/3.png')\n",
    "enhancement_img = cv2.imread('../Dataset/LOLdataset/train/high/3.png')"
   ]
  },
  {
   "cell_type": "code",
   "execution_count": 10,
   "metadata": {},
   "outputs": [],
   "source": [
    "dir_index = 1\n",
    "low_light_img = cv2.imread('./image/{0}/origin_Image.png'.format(dir_index))\n",
    "# enhancement_img = cv2.imread('./image/{0}/3.jpg'.format(dir_index))\n",
    "# enhancement_img = cv2.imread('./image/3/exposure-fusion.jpg')"
   ]
  },
  {
   "cell_type": "code",
   "execution_count": 18,
   "metadata": {},
   "outputs": [
    {
     "name": "stdout",
     "output_type": "stream",
     "text": [
      "A: 0.988306 B: 0.335000 C_H: 0.573267 C_S: 0.175245 N_g: -0.065247 N_m: -0.101589 S_1: 0.714355 S_2: 0.713941 S_3: 0.714355 S_4: 0.713941 E_1: 0.376953 E_2: 0.376884 E_3: 0.376953 E_4: 0.376884 O_1: 0.181030 O_2: 0.198373 O_3: 0.181030 O_4: 0.198373 \n",
      "A: 1.061999 B: 0.329000 C_H: 1.071402 C_S: 0.287330 N_g: -0.072551 N_m: -0.112301 S_1: 0.687012 S_2: 0.690857 S_3: 0.687012 S_4: 0.690857 E_1: 0.355469 E_2: 0.359753 E_3: 0.355469 E_4: 0.359753 O_1: 0.159912 O_2: 0.206562 O_3: 0.159912 O_4: 0.206562 \n",
      "A: 1.127104 B: 0.341000 C_H: 1.516990 C_S: 0.443755 N_g: -0.088570 N_m: -0.131744 S_1: 0.675293 S_2: 0.681439 S_3: 0.675293 S_4: 0.681439 E_1: 0.347412 E_2: 0.354760 E_3: 0.347412 E_4: 0.354760 O_1: 0.155640 O_2: 0.234491 O_3: 0.155640 O_4: 0.234491 \n",
      "A: 1.198941 B: 0.369000 C_H: 2.067148 C_S: 0.630498 N_g: -0.110057 N_m: -0.160995 S_1: 0.672363 S_2: 0.669784 S_3: 0.672363 S_4: 0.669784 E_1: 0.349121 E_2: 0.348542 E_3: 0.349121 E_4: 0.348542 O_1: 0.155640 O_2: 0.254131 O_3: 0.155640 O_4: 0.254131 \n",
      "A: 1.338846 B: 0.386000 C_H: 2.088368 C_S: 0.745559 N_g: -0.140445 N_m: -0.218876 S_1: 0.670410 S_2: 0.643615 S_3: 0.670410 S_4: 0.643615 E_1: 0.350586 E_2: 0.326598 E_3: 0.350586 E_4: 0.326598 O_1: 0.156860 O_2: 0.253010 O_3: 0.156860 O_4: 0.253010 \n",
      "A: 1.528258 B: 0.391000 C_H: 2.018163 C_S: 0.828217 N_g: -0.179468 N_m: -0.317059 S_1: 0.666016 S_2: 0.607702 S_3: 0.666016 S_4: 0.607702 E_1: 0.349365 E_2: 0.294401 E_3: 0.349365 E_4: 0.294401 O_1: 0.155640 O_2: 0.237679 O_3: 0.155640 O_4: 0.237679 \n",
      "A: 1.712601 B: 0.401000 C_H: 1.904546 C_S: 0.892276 N_g: -0.218619 N_m: -0.493015 S_1: 0.660645 S_2: 0.564697 S_3: 0.660645 S_4: 0.564697 E_1: 0.347168 E_2: 0.255551 E_3: 0.347168 E_4: 0.255551 O_1: 0.156250 O_2: 0.213450 O_3: 0.156250 O_4: 0.213450 \n",
      "A: 1.931941 B: 0.408000 C_H: 1.827911 C_S: 0.924961 N_g: -0.249221 N_m: -0.765018 S_1: 0.646973 S_2: 0.509463 S_3: 0.646973 S_4: 0.509463 E_1: 0.337646 E_2: 0.204634 E_3: 0.337646 E_4: 0.204634 O_1: 0.167969 O_2: 0.184434 O_3: 0.167969 O_4: 0.184434 \n",
      "exposure-fusion_sum:9.290452048998816\n"
     ]
    }
   ],
   "source": [
    "for i in range(8):\n",
    "    enhancement_img = cv2.imread('./image/{0}/{1}.jpg'.format(dir_index, i))\n",
    "    f = get_NLIEE_features(low_light_img, enhancement_img)\n",
    "    print('A: {0:6f} B: {1:6f}'.format(f[0],f[1]), end=' ')\n",
    "    print('C_H: {0:6f} C_S: {1:6f}'.format(f[2],f[3]), end=' ')\n",
    "    print('N_g: {0:6f} N_m: {1:6f}'.format(f[4],f[5]), end=' ')\n",
    "    print('S_1: {0:6f} S_2: {1:6f} S_3: {0:6f} S_4: {1:6f}'.format(f[6],f[7],f[8],f[9]), end=' ')\n",
    "    print('E_1: {0:6f} E_2: {1:6f} E_3: {0:6f} E_4: {1:6f}'.format(f[10],f[11],f[12],f[13]), end=' ')\n",
    "    print('O_1: {0:6f} O_2: {1:6f} O_3: {0:6f} O_4: {1:6f}'.format(f[14],f[15],f[16],f[17]))\n",
    "    # print('{0}_sum:{1}'.format(i+1, np.sum(f)))\n",
    "    \n",
    "enhancement_img = cv2.imread('./image/{0}/exposure-fusion.jpg'.format(dir_index))    \n",
    "f = get_NLIEE_features(low_light_img, enhancement_img)\n",
    "print('exposure-fusion_sum:{0}'.format(np.sum(f)))"
   ]
  },
  {
   "cell_type": "code",
   "execution_count": null,
   "metadata": {},
   "outputs": [],
   "source": []
  }
 ],
 "metadata": {
  "interpreter": {
   "hash": "a480b68b8c343a8999e692c3d6d2f5bf9e4da97c94672fb67f8d413f9dcb69e4"
  },
  "kernelspec": {
   "display_name": "Python 3.8.5 ('tf26')",
   "language": "python",
   "name": "python3"
  },
  "language_info": {
   "codemirror_mode": {
    "name": "ipython",
    "version": 3
   },
   "file_extension": ".py",
   "mimetype": "text/x-python",
   "name": "python",
   "nbconvert_exporter": "python",
   "pygments_lexer": "ipython3",
   "version": "3.8.5"
  },
  "orig_nbformat": 4
 },
 "nbformat": 4,
 "nbformat_minor": 2
}
