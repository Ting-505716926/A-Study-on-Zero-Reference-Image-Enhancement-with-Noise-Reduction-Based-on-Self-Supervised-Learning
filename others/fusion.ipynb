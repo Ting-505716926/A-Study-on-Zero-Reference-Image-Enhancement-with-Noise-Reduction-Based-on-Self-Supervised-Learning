{
 "cells": [
  {
   "cell_type": "code",
   "execution_count": 1,
   "metadata": {},
   "outputs": [],
   "source": [
    "import cv2\n",
    "import numpy as np\n",
    "import sys\n",
    "import matplotlib.pyplot as plt\n",
    "import tensorflow as tf\n",
    "from tensorflow.keras import models, Input\n",
    "import time"
   ]
  },
  {
   "cell_type": "code",
   "execution_count": 2,
   "metadata": {},
   "outputs": [],
   "source": [
    "import os\n",
    "# os.environ[\"CUDA_VISIBLE_DEVICES\"]=\"-1\""
   ]
  },
  {
   "cell_type": "code",
   "execution_count": 3,
   "metadata": {},
   "outputs": [
    {
     "data": {
      "text/plain": [
       "<tensorflow.python.training.tracking.util.CheckpointLoadStatus at 0x297bb828f40>"
      ]
     },
     "execution_count": 3,
     "metadata": {},
     "output_type": "execute_result"
    }
   ],
   "source": [
    "path = './weights/only_weight/'\n",
    "model = enhance_net(input_shape=(None,None,3), train=False)\n",
    "# model.enhancement_net.summary()\n",
    "model.enhancement_net.load_weights(path)"
   ]
  },
  {
   "cell_type": "code",
   "execution_count": 4,
   "metadata": {},
   "outputs": [],
   "source": [
    "def show_img(img_array):\n",
    "    print(np.shape(img_array))\n",
    "    b,h,w,c = np.shape(img_array)\n",
    "    plt.figure(figsize=(int(h/2), int(w/2)))\n",
    "    for index_h, i in enumerate(img_array):\n",
    "        plt.subplot(2, int(b/2), index_h+1)\n",
    "        plt.imshow(i)\n",
    "    plt.show()"
   ]
  },
  {
   "cell_type": "code",
   "execution_count": 5,
   "metadata": {},
   "outputs": [],
   "source": [
    "def NormalizeData(data):\n",
    "    return (data - np.min(data)) / (np.max(data) - np.min(data))"
   ]
  },
  {
   "cell_type": "code",
   "execution_count": 7,
   "metadata": {},
   "outputs": [],
   "source": [
    "dir_path = './image_analysis/high/'\n",
    "for i in range(1,1075):\n",
    "    # ------------------讀取影像--------------------------\n",
    "    img_path = './image_analysis/low/{0}.JPG'.format(i)\n",
    "    img = cv2.imread(img_path)\n",
    "    img = cv2.cvtColor(img, cv2.COLOR_BGR2RGB)/255\n",
    "    h,w,c = np.shape(img)\n",
    "    # -----------------------end--------------------------\n",
    "\n",
    "\n",
    "    # ------------轉換為輸入模型的圖像形狀------------------\n",
    "    pred_img = tf.image.resize(img, [512,512])\n",
    "    pred_img = tf.reshape(pred_img,(1,512,512,c))\n",
    "    # -----------------------end--------------------------\n",
    "\n",
    "\n",
    "    # -----------------------預測-------------------------\n",
    "    parameter_map = model.predict(pred_img)\n",
    "    # -----------------------end--------------------------\n",
    "\n",
    "\n",
    "    # 將參數圖 放大到與 讀取影像一樣大小\n",
    "    parameter_map = tf.reshape(parameter_map,(512,512,c))\n",
    "    parameter_map = tf.image.resize(parameter_map, [h,w])\n",
    "    parameter_map = tf.reshape(parameter_map,(1,h,w,c))\n",
    "    pred_img = tf.cast(tf.reshape(img, (1,h,w,c)),dtype=tf.float32)\n",
    "    # -----------------------end--------------------------\n",
    "\n",
    "\n",
    "    # ----------------對low-light Image增強----------------\n",
    "    enhancement_images = []\n",
    "    for j in range(8):\n",
    "        pred_img = pred_img + parameter_map * (pred_img - tf.math.pow(pred_img, 2))\n",
    "        pred_img = NormalizeData(pred_img)\n",
    "        enhancement_image = np.reshape(pred_img, (h,w,c))*255\n",
    "        if j == 6 :\n",
    "            cv2.imwrite(dir_path + \"{0}.jpg\".format(i), cv2.cvtColor(np.asarray(enhancement_image), cv2.COLOR_RGB2BGR))\n",
    "        enhancement_images.append(enhancement_image)\n",
    "    # -----------------------end--------------------------"
   ]
  },
  {
   "cell_type": "markdown",
   "metadata": {},
   "source": [
    "# Image Fusion"
   ]
  },
  {
   "cell_type": "code",
   "execution_count": null,
   "metadata": {},
   "outputs": [],
   "source": [
    "\n",
    "def readImagesAndTimes(dir_index):\n",
    "  \n",
    "  filenames = [\n",
    "               \"./image/{0}/0.jpg\".format(dir_index),\n",
    "               \"./image/{0}/1.jpg\".format(dir_index),\n",
    "               \"./image/{0}/2.jpg\".format(dir_index),\n",
    "               \"./image/{0}/3.jpg\".format(dir_index),\n",
    "               \"./image/{0}/4.jpg\".format(dir_index),\n",
    "               ]\n",
    " \n",
    "  images = []\n",
    "  for filename in filenames:\n",
    "    # im = cv2.imdecode(np.fromfile(filename, dtype=np.uint8), cv2.IMREAD_COLOR)\n",
    "    im = cv2.imread(filename)\n",
    "    im = cv2.cvtColor(im,cv2.COLOR_BGR2RGB)\n",
    "    images.append(im)\n",
    "  \n",
    "  return images"
   ]
  },
  {
   "cell_type": "code",
   "execution_count": null,
   "metadata": {},
   "outputs": [],
   "source": [
    "if __name__ == '__main__':\n",
    "  \n",
    "  # Read images\n",
    "  print(\"Reading images ... \")\n",
    "  \n",
    "  # Read example images\n",
    "  images = readImagesAndTimes(dir_index)\n",
    "  needsAlignment = False\n",
    "  \n",
    "  # Align input images\n",
    "  if needsAlignment:\n",
    "    print(\"Aligning images ... \")\n",
    "    alignMTB = cv2.createAlignMTB()\n",
    "    alignMTB.process(images, images)\n",
    "  else :\n",
    "    print(\"Skipping alignment ... \")\n",
    "    \n",
    "  \n",
    "  # Merge using Exposure Fusion\n",
    "  print(\"Merging using Exposure Fusion ... \")\n",
    "  mergeMertens = cv2.createMergeMertens()\n",
    "  exposureFusion = mergeMertens.process(images)\n",
    "  # exposureFusion = NormalizeData(exposureFusion)\n",
    "  plt.imshow(exposureFusion)\n",
    "  plt.show()\n",
    " \n",
    "  # Save output image\n",
    "  print(\"Saving output ... exposure-fusion.jpg\")\n",
    "  exposureFusion = cv2.cvtColor(exposureFusion,cv2.COLOR_RGB2BGR)\n",
    "  cv2.imwrite(\"./image/{0}/exposure-fusion.jpg\".format(dir_index), exposureFusion*255)"
   ]
  },
  {
   "cell_type": "code",
   "execution_count": null,
   "metadata": {},
   "outputs": [],
   "source": []
  }
 ],
 "metadata": {
  "kernelspec": {
   "display_name": "Python 3.8.5 ('tf26')",
   "language": "python",
   "name": "python3"
  },
  "language_info": {
   "codemirror_mode": {
    "name": "ipython",
    "version": 3
   },
   "file_extension": ".py",
   "mimetype": "text/x-python",
   "name": "python",
   "nbconvert_exporter": "python",
   "pygments_lexer": "ipython3",
   "version": "3.8.5"
  },
  "orig_nbformat": 4,
  "vscode": {
   "interpreter": {
    "hash": "a480b68b8c343a8999e692c3d6d2f5bf9e4da97c94672fb67f8d413f9dcb69e4"
   }
  }
 },
 "nbformat": 4,
 "nbformat_minor": 2
}
